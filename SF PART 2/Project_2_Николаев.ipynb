{
 "cells": [
  {
   "cell_type": "markdown",
   "id": "42289889-bd57-434e-9637-d3e354756316",
   "metadata": {
    "id": "42289889-bd57-434e-9637-d3e354756316",
    "pycharm": {
     "name": "#%% md\n"
    }
   },
   "source": [
    "<center> <img src = https://raw.githubusercontent.com/AndreyRysistov/DatasetsForPandas/main/hh%20label.jpg alt=\"drawing\" style=\"width:400px;\">"
   ]
  },
  {
   "cell_type": "markdown",
   "id": "829cb75b-f14e-4ba8-9195-7ba929a7d656",
   "metadata": {
    "tags": [],
    "id": "829cb75b-f14e-4ba8-9195-7ba929a7d656",
    "pycharm": {
     "name": "#%% md\n"
    }
   },
   "source": [
    "# <center> Проект: Анализ вакансий из HeadHunter\n",
    "   "
   ]
  },
  {
   "cell_type": "code",
   "execution_count": 1,
   "id": "dccfde33-2452-43fb-a8a5-5c6ebc02a71d",
   "metadata": {
    "id": "dccfde33-2452-43fb-a8a5-5c6ebc02a71d",
    "pycharm": {
     "name": "#%%\n"
    }
   },
   "outputs": [],
   "source": [
    "import pandas as pd\n",
    "import psycopg2"
   ]
  },
  {
   "cell_type": "code",
   "source": [
    "DBNAME = 'project_sql'\n",
    "USER = 'skillfactory'\n",
    "PASSWORD = 'cCkxxLVrDE8EbvjueeMedPKt'\n",
    "HOST = '84.201.134.129'\n",
    "PORT = 5432\n",
    "connection = psycopg2.connect(\n",
    "    dbname=DBNAME,\n",
    "    user=USER,\n",
    "    host=HOST,\n",
    "    password=PASSWORD,\n",
    "    port=PORT\n",
    ")"
   ],
   "metadata": {
    "id": "G4X_q8KBf7SF",
    "pycharm": {
     "name": "#%%\n"
    }
   },
   "id": "G4X_q8KBf7SF",
   "execution_count": 3,
   "outputs": []
  },
  {
   "cell_type": "markdown",
   "id": "0dc6476b-7a00-44f1-ac93-6e3baed33a29",
   "metadata": {
    "id": "0dc6476b-7a00-44f1-ac93-6e3baed33a29",
    "pycharm": {
     "name": "#%% md\n"
    }
   },
   "source": [
    "# Юнит 3. Предварительный анализ данных"
   ]
  },
  {
   "cell_type": "markdown",
   "id": "889782b6-8d1c-410e-8920-e57f27917c64",
   "metadata": {
    "id": "889782b6-8d1c-410e-8920-e57f27917c64",
    "pycharm": {
     "name": "#%% md\n"
    }
   },
   "source": [
    "1. Напишите запрос, который посчитает количество вакансий в нашей базе (вакансии находятся в таблице vacancies). "
   ]
  },
  {
   "cell_type": "code",
   "execution_count": 8,
   "id": "bc39e68e-ed02-4ee2-9235-7258a2f867a8",
   "metadata": {
    "id": "bc39e68e-ed02-4ee2-9235-7258a2f867a8",
    "pycharm": {
     "name": "#%%\n"
    }
   },
   "outputs": [
    {
     "name": "stderr",
     "output_type": "stream",
     "text": [
      "C:\\Users\\nikol\\AppData\\Local\\Temp\\ipykernel_31284\\466410155.py:5: UserWarning: pandas only supports SQLAlchemy connectable (engine/connection) or database string URI or sqlite3 DBAPI2 connection. Other DBAPI2 objects are not tested. Please consider using SQLAlchemy.\n",
      "  df = pd.read_sql_query(query_3_1, connection)\n"
     ]
    },
    {
     "data": {
      "text/plain": "49197"
     },
     "execution_count": 8,
     "metadata": {},
     "output_type": "execute_result"
    }
   ],
   "source": [
    "# текст запроса\n",
    "query_3_1 = f'''select DISTINCT id\n",
    "           from public.vacancies\n",
    "        '''\n",
    "df = pd.read_sql_query(query_3_1, connection)\n",
    "df.shape[0]"
   ]
  },
  {
   "cell_type": "markdown",
   "id": "b583485d-1f9e-494e-ada4-80ffff7c53d6",
   "metadata": {
    "id": "b583485d-1f9e-494e-ada4-80ffff7c53d6",
    "pycharm": {
     "name": "#%% md\n"
    }
   },
   "source": [
    "2. Напишите запрос, который посчитает количество работодателей (таблица employers). "
   ]
  },
  {
   "cell_type": "code",
   "execution_count": 10,
   "id": "5408c52c-3407-4a63-b25b-1aafa2322d28",
   "metadata": {
    "id": "5408c52c-3407-4a63-b25b-1aafa2322d28",
    "pycharm": {
     "name": "#%%\n"
    }
   },
   "outputs": [
    {
     "name": "stderr",
     "output_type": "stream",
     "text": [
      "C:\\Users\\nikol\\AppData\\Local\\Temp\\ipykernel_31284\\3869639284.py:4: UserWarning: pandas only supports SQLAlchemy connectable (engine/connection) or database string URI or sqlite3 DBAPI2 connection. Other DBAPI2 objects are not tested. Please consider using SQLAlchemy.\n",
      "  df = pd.read_sql_query(query_3_2, connection)\n"
     ]
    },
    {
     "data": {
      "text/plain": "23501"
     },
     "execution_count": 10,
     "metadata": {},
     "output_type": "execute_result"
    }
   ],
   "source": [
    "query_3_2 = f'''select DISTINCT id\n",
    "           from public.employers\n",
    "        '''\n",
    "df = pd.read_sql_query(query_3_2, connection)\n",
    "df.shape[0]"
   ]
  },
  {
   "cell_type": "markdown",
   "id": "a2bfff1f-c975-4bf6-84be-2185d79dcb76",
   "metadata": {
    "id": "a2bfff1f-c975-4bf6-84be-2185d79dcb76",
    "pycharm": {
     "name": "#%% md\n"
    }
   },
   "source": [
    "3. Посчитате с помощью запроса количество регионов (таблица areas)."
   ]
  },
  {
   "cell_type": "code",
   "source": [
    "query_3_3 = f'''select *\n",
    "           from public.areas\n",
    "        '''\n",
    "df = pd.read_sql_query(query_3_3, connection)\n",
    "df.shape[0]"
   ],
   "metadata": {
    "id": "1m8QJwBYhey6",
    "pycharm": {
     "name": "#%%\n"
    }
   },
   "id": "1m8QJwBYhey6",
   "execution_count": 11,
   "outputs": [
    {
     "name": "stderr",
     "output_type": "stream",
     "text": [
      "C:\\Users\\nikol\\AppData\\Local\\Temp\\ipykernel_31284\\2631811427.py:4: UserWarning: pandas only supports SQLAlchemy connectable (engine/connection) or database string URI or sqlite3 DBAPI2 connection. Other DBAPI2 objects are not tested. Please consider using SQLAlchemy.\n",
      "  df = pd.read_sql_query(query_3_3, connection)\n"
     ]
    },
    {
     "data": {
      "text/plain": "1362"
     },
     "execution_count": 11,
     "metadata": {},
     "output_type": "execute_result"
    }
   ]
  },
  {
   "cell_type": "markdown",
   "id": "41bb59f3-53cc-4a67-a5bc-bedf573955e4",
   "metadata": {
    "id": "41bb59f3-53cc-4a67-a5bc-bedf573955e4",
    "pycharm": {
     "name": "#%% md\n"
    }
   },
   "source": [
    "4. Посчитате с помощью запроса количество сфер деятельности в базе (таблица industries)."
   ]
  },
  {
   "cell_type": "code",
   "execution_count": 15,
   "id": "d286cf4c-707b-4cd2-9190-7ab3587d04a1",
   "metadata": {
    "id": "d286cf4c-707b-4cd2-9190-7ab3587d04a1",
    "pycharm": {
     "name": "#%%\n"
    }
   },
   "outputs": [
    {
     "name": "stderr",
     "output_type": "stream",
     "text": [
      "C:\\Users\\nikol\\AppData\\Local\\Temp\\ipykernel_31284\\1824885113.py:4: UserWarning: pandas only supports SQLAlchemy connectable (engine/connection) or database string URI or sqlite3 DBAPI2 connection. Other DBAPI2 objects are not tested. Please consider using SQLAlchemy.\n",
      "  df = pd.read_sql_query(query_3_4, connection)\n"
     ]
    },
    {
     "data": {
      "text/plain": "294"
     },
     "execution_count": 15,
     "metadata": {},
     "output_type": "execute_result"
    }
   ],
   "source": [
    "query_3_4 = f'''select *\n",
    "           from public.industries\n",
    "        '''\n",
    "df = pd.read_sql_query(query_3_4, connection)\n",
    "df.shape[0]"
   ]
  },
  {
   "cell_type": "markdown",
   "id": "9a8a2181-6914-448b-85f1-38f5f18b8a93",
   "metadata": {
    "id": "9a8a2181-6914-448b-85f1-38f5f18b8a93",
    "pycharm": {
     "name": "#%% md\n"
    }
   },
   "source": [
    "***"
   ]
  },
  {
   "cell_type": "markdown",
   "source": [
    "В данных представлены вакансии, которые охватывают тяжелую и лёгкую промышленности, пишевую индустрию и сферу услуг. Вакансии представлены по всему миру, но большинство в России, которая особенно подробно разбита на регионы и города."
   ],
   "metadata": {
    "collapsed": false,
    "pycharm": {
     "name": "#%% md\n"
    }
   }
  },
  {
   "cell_type": "markdown",
   "id": "8d62a9f3-f64e-4fe7-bdac-c4dffa16155e",
   "metadata": {
    "id": "8d62a9f3-f64e-4fe7-bdac-c4dffa16155e",
    "pycharm": {
     "name": "#%% md\n"
    }
   },
   "source": [
    "# Юнит 4. Детальный анализ вакансий"
   ]
  },
  {
   "cell_type": "markdown",
   "id": "93053d3d-b284-481a-9cf7-012d7014c0e0",
   "metadata": {
    "id": "93053d3d-b284-481a-9cf7-012d7014c0e0",
    "pycharm": {
     "name": "#%% md\n"
    }
   },
   "source": [
    "1. Напишите запрос, который позволит узнать, сколько (cnt) вакансий в каждом регионе (area).\n",
    "Отсортируйте по количеству вакансий в порядке убывания."
   ]
  },
  {
   "cell_type": "code",
   "execution_count": 23,
   "id": "3f069da6-fdc9-4ae7-b514-fafe2675efd3",
   "metadata": {
    "id": "3f069da6-fdc9-4ae7-b514-fafe2675efd3",
    "pycharm": {
     "name": "#%%\n"
    }
   },
   "outputs": [
    {
     "name": "stderr",
     "output_type": "stream",
     "text": [
      "C:\\Users\\nikol\\AppData\\Local\\Temp\\ipykernel_31284\\2994418298.py:6: UserWarning: pandas only supports SQLAlchemy connectable (engine/connection) or database string URI or sqlite3 DBAPI2 connection. Other DBAPI2 objects are not tested. Please consider using SQLAlchemy.\n",
      "  df = pd.read_sql_query(query_4_1, connection)\n"
     ]
    },
    {
     "data": {
      "text/plain": "                name   cnt\n0             Москва  5333\n1    Санкт-Петербург  2851\n2              Минск  2112\n3        Новосибирск  2006\n4             Алматы  1892\n..               ...   ...\n764       Тарко-Сале     1\n765    Новоаннинский     1\n766            Бирск     1\n767           Сасово     1\n768             Анна     1\n\n[769 rows x 2 columns]",
      "text/html": "<div>\n<style scoped>\n    .dataframe tbody tr th:only-of-type {\n        vertical-align: middle;\n    }\n\n    .dataframe tbody tr th {\n        vertical-align: top;\n    }\n\n    .dataframe thead th {\n        text-align: right;\n    }\n</style>\n<table border=\"1\" class=\"dataframe\">\n  <thead>\n    <tr style=\"text-align: right;\">\n      <th></th>\n      <th>name</th>\n      <th>cnt</th>\n    </tr>\n  </thead>\n  <tbody>\n    <tr>\n      <th>0</th>\n      <td>Москва</td>\n      <td>5333</td>\n    </tr>\n    <tr>\n      <th>1</th>\n      <td>Санкт-Петербург</td>\n      <td>2851</td>\n    </tr>\n    <tr>\n      <th>2</th>\n      <td>Минск</td>\n      <td>2112</td>\n    </tr>\n    <tr>\n      <th>3</th>\n      <td>Новосибирск</td>\n      <td>2006</td>\n    </tr>\n    <tr>\n      <th>4</th>\n      <td>Алматы</td>\n      <td>1892</td>\n    </tr>\n    <tr>\n      <th>...</th>\n      <td>...</td>\n      <td>...</td>\n    </tr>\n    <tr>\n      <th>764</th>\n      <td>Тарко-Сале</td>\n      <td>1</td>\n    </tr>\n    <tr>\n      <th>765</th>\n      <td>Новоаннинский</td>\n      <td>1</td>\n    </tr>\n    <tr>\n      <th>766</th>\n      <td>Бирск</td>\n      <td>1</td>\n    </tr>\n    <tr>\n      <th>767</th>\n      <td>Сасово</td>\n      <td>1</td>\n    </tr>\n    <tr>\n      <th>768</th>\n      <td>Анна</td>\n      <td>1</td>\n    </tr>\n  </tbody>\n</table>\n<p>769 rows × 2 columns</p>\n</div>"
     },
     "execution_count": 23,
     "metadata": {},
     "output_type": "execute_result"
    }
   ],
   "source": [
    "query_4_1 = f'''select a.name, count(v.id) cnt\n",
    "           from public.vacancies v join public.areas a on v.area_id = a.id\n",
    "           group by a.name\n",
    "           order by cnt  desc\n",
    "        '''\n",
    "df = pd.read_sql_query(query_4_1, connection)\n",
    "df"
   ]
  },
  {
   "cell_type": "markdown",
   "id": "4266f0b6-1646-492a-88b4-2f6a46502135",
   "metadata": {
    "id": "4266f0b6-1646-492a-88b4-2f6a46502135",
    "pycharm": {
     "name": "#%% md\n"
    }
   },
   "source": [
    "2. Напишите запрос, чтобы определить у какого количества вакансий заполнено хотя бы одно из двух полей с зарплатой."
   ]
  },
  {
   "cell_type": "code",
   "execution_count": 25,
   "id": "0c44b350-72eb-4d65-8b54-a1fc449ba9fd",
   "metadata": {
    "id": "0c44b350-72eb-4d65-8b54-a1fc449ba9fd",
    "pycharm": {
     "name": "#%%\n"
    }
   },
   "outputs": [
    {
     "name": "stderr",
     "output_type": "stream",
     "text": [
      "C:\\Users\\nikol\\AppData\\Local\\Temp\\ipykernel_31284\\1191996193.py:8: UserWarning: pandas only supports SQLAlchemy connectable (engine/connection) or database string URI or sqlite3 DBAPI2 connection. Other DBAPI2 objects are not tested. Please consider using SQLAlchemy.\n",
      "  df = pd.read_sql_query(query_4_2, connection)\n"
     ]
    },
    {
     "data": {
      "text/plain": "24073"
     },
     "execution_count": 25,
     "metadata": {},
     "output_type": "execute_result"
    }
   ],
   "source": [
    "query_4_2 = f'''select count(*), vacancies.salary_from, vacancies.salary_to, vacancies.salary_from + vacancies.salary_to\n",
    "           from public.vacancies\n",
    "           where vacancies.salary_to is not null and vacancies.salary_from is null\n",
    "           or vacancies.salary_to is null and vacancies.salary_from is not null\n",
    "           or vacancies.salary_to is not null and vacancies.salary_from is not null\n",
    "           group by vacancies.id\n",
    "        '''\n",
    "df = pd.read_sql_query(query_4_2, connection)\n",
    "df.shape[0]"
   ]
  },
  {
   "cell_type": "code",
   "execution_count": 8,
   "outputs": [
    {
     "name": "stderr",
     "output_type": "stream",
     "text": [
      "C:\\Users\\nikol\\AppData\\Local\\Temp\\ipykernel_18172\\1447232747.py:5: UserWarning: pandas only supports SQLAlchemy connectable (engine/connection) or database string URI or sqlite3 DBAPI2 connection. Other DBAPI2 objects are not tested. Please consider using SQLAlchemy.\n",
      "  df = pd.read_sql_query(query_4_2, connection)\n"
     ]
    },
    {
     "data": {
      "text/plain": "             id                                               name  \\\n0      55312386                                Компьютерный Мастер   \n1      55843014                            Системный администратор   \n2      54525964                      Lead Java Developer to Poland   \n3      54525965                      Lead Java Developer to Poland   \n4      55354053  Специалист службы поддержки с техническими зна...   \n...         ...                                                ...   \n36502  55904166                                   Менеджер проекта   \n36503  55589514           Специалист по информационным технологиям   \n36504  55029668                     Руководитель процессного офиса   \n36505  66172263                         Начальник сервисной службы   \n36506  55547842                                   DataOps Engineer   \n\n                                              key_skills          schedule  \\\n0      Пользователь ПК\\tРабота в команде\\tРемонт ноут...       Полный день   \n1      Средства криптографической защиты информации\\t...       Полный день   \n2        Spring Framework\\tSQL\\tHibernate ORM\\tJava\\tGit  Удаленная работа   \n3        Spring Framework\\tSQL\\tHibernate ORM\\tJava\\tGit  Удаленная работа   \n4                                                   None  Удаленная работа   \n...                                                  ...               ...   \n36502  Управление проектами\\tДеловая коммуникация\\tОр...       Полный день   \n36503  Электронный документооборот\\t1С: Предприятие 8...       Полный день   \n36504  Оптимизация бизнес-процессов\\tСтратегическое м...       Полный день   \n36505  Организаторские навыки\\tУправление персоналом\\...       Полный день   \n36506                                               None  Удаленная работа   \n\n               experience           employment  salary_from salary_to  \\\n0               Нет опыта     Полная занятость      64000.0      None   \n1           От 3 до 6 лет     Полная занятость          NaN      None   \n2           От 3 до 6 лет     Полная занятость          NaN      None   \n3           От 3 до 6 лет     Полная занятость          NaN      None   \n4               Нет опыта  Частичная занятость      15000.0      None   \n...                   ...                  ...          ...       ...   \n36502       От 3 до 6 лет     Полная занятость          NaN      None   \n36503       От 3 до 6 лет     Полная занятость          NaN      None   \n36504       От 3 до 6 лет     Полная занятость          NaN      None   \n36505  От 1 года до 3 лет     Полная занятость      60000.0      None   \n36506       От 3 до 6 лет     Полная занятость          NaN      None   \n\n       area_id  employer_id  \n0         1516      5724811  \n1          130      4903713  \n2          160        69961  \n3          159        69961  \n4         1955         1740  \n...        ...          ...  \n36502       53       895094  \n36503       66      5109332  \n36504       26        51333  \n36505     1930      4094700  \n36506      160      4978627  \n\n[36507 rows x 10 columns]",
      "text/html": "<div>\n<style scoped>\n    .dataframe tbody tr th:only-of-type {\n        vertical-align: middle;\n    }\n\n    .dataframe tbody tr th {\n        vertical-align: top;\n    }\n\n    .dataframe thead th {\n        text-align: right;\n    }\n</style>\n<table border=\"1\" class=\"dataframe\">\n  <thead>\n    <tr style=\"text-align: right;\">\n      <th></th>\n      <th>id</th>\n      <th>name</th>\n      <th>key_skills</th>\n      <th>schedule</th>\n      <th>experience</th>\n      <th>employment</th>\n      <th>salary_from</th>\n      <th>salary_to</th>\n      <th>area_id</th>\n      <th>employer_id</th>\n    </tr>\n  </thead>\n  <tbody>\n    <tr>\n      <th>0</th>\n      <td>55312386</td>\n      <td>Компьютерный Мастер</td>\n      <td>Пользователь ПК\\tРабота в команде\\tРемонт ноут...</td>\n      <td>Полный день</td>\n      <td>Нет опыта</td>\n      <td>Полная занятость</td>\n      <td>64000.0</td>\n      <td>None</td>\n      <td>1516</td>\n      <td>5724811</td>\n    </tr>\n    <tr>\n      <th>1</th>\n      <td>55843014</td>\n      <td>Системный администратор</td>\n      <td>Средства криптографической защиты информации\\t...</td>\n      <td>Полный день</td>\n      <td>От 3 до 6 лет</td>\n      <td>Полная занятость</td>\n      <td>NaN</td>\n      <td>None</td>\n      <td>130</td>\n      <td>4903713</td>\n    </tr>\n    <tr>\n      <th>2</th>\n      <td>54525964</td>\n      <td>Lead Java Developer to Poland</td>\n      <td>Spring Framework\\tSQL\\tHibernate ORM\\tJava\\tGit</td>\n      <td>Удаленная работа</td>\n      <td>От 3 до 6 лет</td>\n      <td>Полная занятость</td>\n      <td>NaN</td>\n      <td>None</td>\n      <td>160</td>\n      <td>69961</td>\n    </tr>\n    <tr>\n      <th>3</th>\n      <td>54525965</td>\n      <td>Lead Java Developer to Poland</td>\n      <td>Spring Framework\\tSQL\\tHibernate ORM\\tJava\\tGit</td>\n      <td>Удаленная работа</td>\n      <td>От 3 до 6 лет</td>\n      <td>Полная занятость</td>\n      <td>NaN</td>\n      <td>None</td>\n      <td>159</td>\n      <td>69961</td>\n    </tr>\n    <tr>\n      <th>4</th>\n      <td>55354053</td>\n      <td>Специалист службы поддержки с техническими зна...</td>\n      <td>None</td>\n      <td>Удаленная работа</td>\n      <td>Нет опыта</td>\n      <td>Частичная занятость</td>\n      <td>15000.0</td>\n      <td>None</td>\n      <td>1955</td>\n      <td>1740</td>\n    </tr>\n    <tr>\n      <th>...</th>\n      <td>...</td>\n      <td>...</td>\n      <td>...</td>\n      <td>...</td>\n      <td>...</td>\n      <td>...</td>\n      <td>...</td>\n      <td>...</td>\n      <td>...</td>\n      <td>...</td>\n    </tr>\n    <tr>\n      <th>36502</th>\n      <td>55904166</td>\n      <td>Менеджер проекта</td>\n      <td>Управление проектами\\tДеловая коммуникация\\tОр...</td>\n      <td>Полный день</td>\n      <td>От 3 до 6 лет</td>\n      <td>Полная занятость</td>\n      <td>NaN</td>\n      <td>None</td>\n      <td>53</td>\n      <td>895094</td>\n    </tr>\n    <tr>\n      <th>36503</th>\n      <td>55589514</td>\n      <td>Специалист по информационным технологиям</td>\n      <td>Электронный документооборот\\t1С: Предприятие 8...</td>\n      <td>Полный день</td>\n      <td>От 3 до 6 лет</td>\n      <td>Полная занятость</td>\n      <td>NaN</td>\n      <td>None</td>\n      <td>66</td>\n      <td>5109332</td>\n    </tr>\n    <tr>\n      <th>36504</th>\n      <td>55029668</td>\n      <td>Руководитель процессного офиса</td>\n      <td>Оптимизация бизнес-процессов\\tСтратегическое м...</td>\n      <td>Полный день</td>\n      <td>От 3 до 6 лет</td>\n      <td>Полная занятость</td>\n      <td>NaN</td>\n      <td>None</td>\n      <td>26</td>\n      <td>51333</td>\n    </tr>\n    <tr>\n      <th>36505</th>\n      <td>66172263</td>\n      <td>Начальник сервисной службы</td>\n      <td>Организаторские навыки\\tУправление персоналом\\...</td>\n      <td>Полный день</td>\n      <td>От 1 года до 3 лет</td>\n      <td>Полная занятость</td>\n      <td>60000.0</td>\n      <td>None</td>\n      <td>1930</td>\n      <td>4094700</td>\n    </tr>\n    <tr>\n      <th>36506</th>\n      <td>55547842</td>\n      <td>DataOps Engineer</td>\n      <td>None</td>\n      <td>Удаленная работа</td>\n      <td>От 3 до 6 лет</td>\n      <td>Полная занятость</td>\n      <td>NaN</td>\n      <td>None</td>\n      <td>160</td>\n      <td>4978627</td>\n    </tr>\n  </tbody>\n</table>\n<p>36507 rows × 10 columns</p>\n</div>"
     },
     "execution_count": 8,
     "metadata": {},
     "output_type": "execute_result"
    }
   ],
   "source": [
    "query_4_2 = f'''select *\n",
    "           from public.vacancies\n",
    "           where vacancies.salary_to IS null\n",
    "        '''\n",
    "df = pd.read_sql_query(query_4_2, connection)\n",
    "df"
   ],
   "metadata": {
    "collapsed": false,
    "pycharm": {
     "name": "#%%\n"
    }
   }
  },
  {
   "cell_type": "markdown",
   "id": "635c4d5d-f323-4c66-b428-50a088120aa0",
   "metadata": {
    "id": "635c4d5d-f323-4c66-b428-50a088120aa0",
    "pycharm": {
     "name": "#%% md\n"
    }
   },
   "source": [
    "3. Найдите средние значения для нижней и верхней границы зарплатной вилки. Округлите значения до целого."
   ]
  },
  {
   "cell_type": "code",
   "execution_count": 28,
   "id": "603cdbe4-0ec3-4106-8eaf-c73fcdd29165",
   "metadata": {
    "id": "603cdbe4-0ec3-4106-8eaf-c73fcdd29165",
    "pycharm": {
     "name": "#%%\n"
    }
   },
   "outputs": [
    {
     "name": "stdout",
     "output_type": "stream",
     "text": [
      "salary_from: 71064.65790086107\n",
      "salary_to: 110536.74192277384\n"
     ]
    }
   ],
   "source": [
    "print(\"salary_from:\", df[\"salary_from\"].mean())\n",
    "print(\"salary_to:\", df[\"salary_to\"].mean())"
   ]
  },
  {
   "cell_type": "markdown",
   "id": "f3fdaec9-5fd3-4260-9cf5-1d7406b628a5",
   "metadata": {
    "id": "f3fdaec9-5fd3-4260-9cf5-1d7406b628a5",
    "pycharm": {
     "name": "#%% md\n"
    }
   },
   "source": [
    "4. Напишите запрос, который выведет количество вакансий для каждого сочетания типа рабочего графика (schedule) и типа трудоустройства (employment), используемого в вакансиях. Результат отсортируйте по убыванию количества.\n"
   ]
  },
  {
   "cell_type": "code",
   "execution_count": 29,
   "id": "1ea710ec-871b-431e-9462-c7d0fd87011b",
   "metadata": {
    "id": "1ea710ec-871b-431e-9462-c7d0fd87011b",
    "pycharm": {
     "name": "#%%\n"
    }
   },
   "outputs": [
    {
     "name": "stderr",
     "output_type": "stream",
     "text": [
      "C:\\Users\\nikol\\AppData\\Local\\Temp\\ipykernel_31284\\1400374966.py:6: UserWarning: pandas only supports SQLAlchemy connectable (engine/connection) or database string URI or sqlite3 DBAPI2 connection. Other DBAPI2 objects are not tested. Please consider using SQLAlchemy.\n",
      "  df = pd.read_sql_query(query_4_4, connection)\n"
     ]
    },
    {
     "data": {
      "text/plain": "            schedule           employment  count\n0        Полный день     Полная занятость  35367\n1   Удаленная работа     Полная занятость   7802\n2      Гибкий график     Полная занятость   1593\n3   Удаленная работа  Частичная занятость   1312\n4     Сменный график     Полная занятость    940\n5        Полный день           Стажировка    569\n6     Вахтовый метод     Полная занятость    367\n7        Полный день  Частичная занятость    347\n8      Гибкий график  Частичная занятость    312\n9        Полный день     Проектная работа    141\n10  Удаленная работа     Проектная работа    133\n11     Гибкий график           Стажировка    116\n12    Сменный график  Частичная занятость    101\n13  Удаленная работа           Стажировка     64\n14     Гибкий график     Проектная работа     18\n15    Сменный график           Стажировка     12\n16    Вахтовый метод     Проектная работа      2\n17    Сменный график     Проектная работа      1",
      "text/html": "<div>\n<style scoped>\n    .dataframe tbody tr th:only-of-type {\n        vertical-align: middle;\n    }\n\n    .dataframe tbody tr th {\n        vertical-align: top;\n    }\n\n    .dataframe thead th {\n        text-align: right;\n    }\n</style>\n<table border=\"1\" class=\"dataframe\">\n  <thead>\n    <tr style=\"text-align: right;\">\n      <th></th>\n      <th>schedule</th>\n      <th>employment</th>\n      <th>count</th>\n    </tr>\n  </thead>\n  <tbody>\n    <tr>\n      <th>0</th>\n      <td>Полный день</td>\n      <td>Полная занятость</td>\n      <td>35367</td>\n    </tr>\n    <tr>\n      <th>1</th>\n      <td>Удаленная работа</td>\n      <td>Полная занятость</td>\n      <td>7802</td>\n    </tr>\n    <tr>\n      <th>2</th>\n      <td>Гибкий график</td>\n      <td>Полная занятость</td>\n      <td>1593</td>\n    </tr>\n    <tr>\n      <th>3</th>\n      <td>Удаленная работа</td>\n      <td>Частичная занятость</td>\n      <td>1312</td>\n    </tr>\n    <tr>\n      <th>4</th>\n      <td>Сменный график</td>\n      <td>Полная занятость</td>\n      <td>940</td>\n    </tr>\n    <tr>\n      <th>5</th>\n      <td>Полный день</td>\n      <td>Стажировка</td>\n      <td>569</td>\n    </tr>\n    <tr>\n      <th>6</th>\n      <td>Вахтовый метод</td>\n      <td>Полная занятость</td>\n      <td>367</td>\n    </tr>\n    <tr>\n      <th>7</th>\n      <td>Полный день</td>\n      <td>Частичная занятость</td>\n      <td>347</td>\n    </tr>\n    <tr>\n      <th>8</th>\n      <td>Гибкий график</td>\n      <td>Частичная занятость</td>\n      <td>312</td>\n    </tr>\n    <tr>\n      <th>9</th>\n      <td>Полный день</td>\n      <td>Проектная работа</td>\n      <td>141</td>\n    </tr>\n    <tr>\n      <th>10</th>\n      <td>Удаленная работа</td>\n      <td>Проектная работа</td>\n      <td>133</td>\n    </tr>\n    <tr>\n      <th>11</th>\n      <td>Гибкий график</td>\n      <td>Стажировка</td>\n      <td>116</td>\n    </tr>\n    <tr>\n      <th>12</th>\n      <td>Сменный график</td>\n      <td>Частичная занятость</td>\n      <td>101</td>\n    </tr>\n    <tr>\n      <th>13</th>\n      <td>Удаленная работа</td>\n      <td>Стажировка</td>\n      <td>64</td>\n    </tr>\n    <tr>\n      <th>14</th>\n      <td>Гибкий график</td>\n      <td>Проектная работа</td>\n      <td>18</td>\n    </tr>\n    <tr>\n      <th>15</th>\n      <td>Сменный график</td>\n      <td>Стажировка</td>\n      <td>12</td>\n    </tr>\n    <tr>\n      <th>16</th>\n      <td>Вахтовый метод</td>\n      <td>Проектная работа</td>\n      <td>2</td>\n    </tr>\n    <tr>\n      <th>17</th>\n      <td>Сменный график</td>\n      <td>Проектная работа</td>\n      <td>1</td>\n    </tr>\n  </tbody>\n</table>\n</div>"
     },
     "execution_count": 29,
     "metadata": {},
     "output_type": "execute_result"
    }
   ],
   "source": [
    "query_4_4 = f'''select vacancies.schedule, vacancies.employment, count(id)\n",
    "           from public.vacancies\n",
    "           group by vacancies.schedule, vacancies.employment\n",
    "           order by count DESC\n",
    "        '''\n",
    "df = pd.read_sql_query(query_4_4, connection)\n",
    "df"
   ]
  },
  {
   "cell_type": "markdown",
   "id": "0136ffee-0ead-4a6b-b608-61d1c753a438",
   "metadata": {
    "id": "0136ffee-0ead-4a6b-b608-61d1c753a438",
    "pycharm": {
     "name": "#%% md\n"
    }
   },
   "source": [
    "5. Напишите запрос, выводящий значения поля Требуемый опыт работы (experience) в порядке возрастания количества вакансий, в которых указан данный вариант опыта. "
   ]
  },
  {
   "cell_type": "code",
   "execution_count": 30,
   "id": "5b3a8e79-f7ab-4008-b767-12aea3a205ea",
   "metadata": {
    "id": "5b3a8e79-f7ab-4008-b767-12aea3a205ea",
    "pycharm": {
     "name": "#%%\n"
    }
   },
   "outputs": [
    {
     "name": "stderr",
     "output_type": "stream",
     "text": [
      "C:\\Users\\nikol\\AppData\\Local\\Temp\\ipykernel_31284\\2995116292.py:4: UserWarning: pandas only supports SQLAlchemy connectable (engine/connection) or database string URI or sqlite3 DBAPI2 connection. Other DBAPI2 objects are not tested. Please consider using SQLAlchemy.\n",
      "  df = pd.read_sql_query(query, connection)\n"
     ]
    },
    {
     "data": {
      "text/plain": "От 1 года до 3 лет    26152\nОт 3 до 6 лет         14511\nНет опыта              7197\nБолее 6 лет            1337\nName: experience, dtype: int64"
     },
     "execution_count": 30,
     "metadata": {},
     "output_type": "execute_result"
    }
   ],
   "source": [
    "query = f'''select *\n",
    "           from public.vacancies\n",
    "        '''\n",
    "df = pd.read_sql_query(query, connection)\n",
    "df[\"experience\"].value_counts()"
   ]
  },
  {
   "cell_type": "markdown",
   "source": [
    "***"
   ],
   "metadata": {
    "id": "oq2b7n1QpIka",
    "pycharm": {
     "name": "#%% md\n"
    }
   },
   "id": "oq2b7n1QpIka"
  },
  {
   "cell_type": "markdown",
   "source": [
    "Итак, в данных есть вакансии в 1362 региона, однако почти половина вакансий находится в десяти крупнейших городах России. Лишь половина вакансий чётко обозначают границы зарплат, что, видимо, говорит о том, что условия могут измениться в зависимости от соискателя. В среднем предлагаемые около 100000 Р, но стоит учитывать, что семь из десяти вакансий предлагаются людям либо с малым опытом работы, либо без опыта вовсе, хоть обычно и на полный рабочий день."
   ],
   "metadata": {
    "collapsed": false,
    "pycharm": {
     "name": "#%% md\n"
    }
   }
  },
  {
   "cell_type": "markdown",
   "id": "7ea20ab6-04a7-40a0-adec-443a0e5a42c3",
   "metadata": {
    "id": "7ea20ab6-04a7-40a0-adec-443a0e5a42c3",
    "pycharm": {
     "name": "#%% md\n"
    }
   },
   "source": [
    "# Юнит 5. Анализ работодателей"
   ]
  },
  {
   "cell_type": "markdown",
   "id": "968aed80-74ef-4ffb-b5bf-c65b84e9caea",
   "metadata": {
    "id": "968aed80-74ef-4ffb-b5bf-c65b84e9caea",
    "pycharm": {
     "name": "#%% md\n"
    }
   },
   "source": [
    "1. Напишите запрос, который позволит узнать, какие работодатели находятся на первом и пятом месте по количеству вакансий."
   ]
  },
  {
   "cell_type": "code",
   "execution_count": 49,
   "id": "f2d62796-d400-4ec1-a675-88112739a50e",
   "metadata": {
    "id": "f2d62796-d400-4ec1-a675-88112739a50e",
    "pycharm": {
     "name": "#%%\n"
    }
   },
   "outputs": [
    {
     "name": "stderr",
     "output_type": "stream",
     "text": [
      "C:\\Users\\nikol\\AppData\\Local\\Temp\\ipykernel_31284\\3913119699.py:6: UserWarning: pandas only supports SQLAlchemy connectable (engine/connection) or database string URI or sqlite3 DBAPI2 connection. Other DBAPI2 objects are not tested. Please consider using SQLAlchemy.\n",
      "  df = pd.read_sql_query(query_5_1, connection)\n"
     ]
    },
    {
     "data": {
      "text/plain": "            name  number_of_vac\n0         Яндекс           1933\n1     Ростелеком            491\n2       Тинькофф            444\n3           СБЕР            428\n4  Газпром нефть            331",
      "text/html": "<div>\n<style scoped>\n    .dataframe tbody tr th:only-of-type {\n        vertical-align: middle;\n    }\n\n    .dataframe tbody tr th {\n        vertical-align: top;\n    }\n\n    .dataframe thead th {\n        text-align: right;\n    }\n</style>\n<table border=\"1\" class=\"dataframe\">\n  <thead>\n    <tr style=\"text-align: right;\">\n      <th></th>\n      <th>name</th>\n      <th>number_of_vac</th>\n    </tr>\n  </thead>\n  <tbody>\n    <tr>\n      <th>0</th>\n      <td>Яндекс</td>\n      <td>1933</td>\n    </tr>\n    <tr>\n      <th>1</th>\n      <td>Ростелеком</td>\n      <td>491</td>\n    </tr>\n    <tr>\n      <th>2</th>\n      <td>Тинькофф</td>\n      <td>444</td>\n    </tr>\n    <tr>\n      <th>3</th>\n      <td>СБЕР</td>\n      <td>428</td>\n    </tr>\n    <tr>\n      <th>4</th>\n      <td>Газпром нефть</td>\n      <td>331</td>\n    </tr>\n  </tbody>\n</table>\n</div>"
     },
     "execution_count": 49,
     "metadata": {},
     "output_type": "execute_result"
    }
   ],
   "source": [
    "query_5_1 = f'''select e.name, count(*) number_of_vac\n",
    "                from public.employers e join public.vacancies v on e.id = v.employer_id\n",
    "                group by e.name\n",
    "                order by count(*) DESC\n",
    "                limit 5'''\n",
    "df = pd.read_sql_query(query_5_1, connection)\n",
    "df"
   ]
  },
  {
   "cell_type": "markdown",
   "id": "68377cfc-b378-43dc-ab7d-1195abf2c515",
   "metadata": {
    "id": "68377cfc-b378-43dc-ab7d-1195abf2c515",
    "pycharm": {
     "name": "#%% md\n"
    }
   },
   "source": [
    "2. Напишите запрос, который для каждого региона выведет количество работодателей и вакансий в нём.\n",
    "Среди регионов, в которых нет вакансий, найдите тот, в котором наибольшее количество работодателей.\n"
   ]
  },
  {
   "cell_type": "code",
   "execution_count": 6,
   "id": "dd7df27a-e3e8-412e-a21a-5d389b71e891",
   "metadata": {
    "id": "dd7df27a-e3e8-412e-a21a-5d389b71e891",
    "pycharm": {
     "name": "#%%\n"
    }
   },
   "outputs": [
    {
     "name": "stderr",
     "output_type": "stream",
     "text": [
      "C:\\Users\\nikol\\AppData\\Local\\Temp\\ipykernel_19568\\1309142211.py:8: UserWarning: pandas only supports SQLAlchemy connectable (engine/connection) or database string URI or sqlite3 DBAPI2 connection. Other DBAPI2 objects are not tested. Please consider using SQLAlchemy.\n",
      "  df = pd.read_sql_query(query_5_2, connection)\n"
     ]
    },
    {
     "data": {
      "text/plain": "                               name  e_count  v_count\n0                            Россия      410        0\n1                         Казахстан      207        0\n2                Московская область       75        0\n3                Краснодарский край       19        0\n4                          Беларусь       18        0\n..                              ...      ...      ...\n588                        Кувандык        0        0\n589                        Куйбышев        0        0\n590  Куйбышево (Ростовская область)        0        0\n591                        Култаево        0        0\n592                        Кульсары        0        0\n\n[593 rows x 3 columns]",
      "text/html": "<div>\n<style scoped>\n    .dataframe tbody tr th:only-of-type {\n        vertical-align: middle;\n    }\n\n    .dataframe tbody tr th {\n        vertical-align: top;\n    }\n\n    .dataframe thead th {\n        text-align: right;\n    }\n</style>\n<table border=\"1\" class=\"dataframe\">\n  <thead>\n    <tr style=\"text-align: right;\">\n      <th></th>\n      <th>name</th>\n      <th>e_count</th>\n      <th>v_count</th>\n    </tr>\n  </thead>\n  <tbody>\n    <tr>\n      <th>0</th>\n      <td>Россия</td>\n      <td>410</td>\n      <td>0</td>\n    </tr>\n    <tr>\n      <th>1</th>\n      <td>Казахстан</td>\n      <td>207</td>\n      <td>0</td>\n    </tr>\n    <tr>\n      <th>2</th>\n      <td>Московская область</td>\n      <td>75</td>\n      <td>0</td>\n    </tr>\n    <tr>\n      <th>3</th>\n      <td>Краснодарский край</td>\n      <td>19</td>\n      <td>0</td>\n    </tr>\n    <tr>\n      <th>4</th>\n      <td>Беларусь</td>\n      <td>18</td>\n      <td>0</td>\n    </tr>\n    <tr>\n      <th>...</th>\n      <td>...</td>\n      <td>...</td>\n      <td>...</td>\n    </tr>\n    <tr>\n      <th>588</th>\n      <td>Кувандык</td>\n      <td>0</td>\n      <td>0</td>\n    </tr>\n    <tr>\n      <th>589</th>\n      <td>Куйбышев</td>\n      <td>0</td>\n      <td>0</td>\n    </tr>\n    <tr>\n      <th>590</th>\n      <td>Куйбышево (Ростовская область)</td>\n      <td>0</td>\n      <td>0</td>\n    </tr>\n    <tr>\n      <th>591</th>\n      <td>Култаево</td>\n      <td>0</td>\n      <td>0</td>\n    </tr>\n    <tr>\n      <th>592</th>\n      <td>Кульсары</td>\n      <td>0</td>\n      <td>0</td>\n    </tr>\n  </tbody>\n</table>\n<p>593 rows × 3 columns</p>\n</div>"
     },
     "execution_count": 6,
     "metadata": {},
     "output_type": "execute_result"
    }
   ],
   "source": [
    "query_5_2 = f'''select a.name, count(DISTINCT e.id) e_count, count(DISTINCT v.id) v_count\n",
    "           from public.areas a left join public.employers e on a.id = e.area\n",
    "           left join public.vacancies v on v.area_id = a.id\n",
    "           where v.id is null\n",
    "           group by a.name\n",
    "           order by e_count DESC, v_count DESC\n",
    "        '''\n",
    "df = pd.read_sql_query(query_5_2, connection)\n",
    "df"
   ]
  },
  {
   "cell_type": "markdown",
   "id": "f2fe0acb-ab1a-4e15-9326-2560e22d73c1",
   "metadata": {
    "id": "f2fe0acb-ab1a-4e15-9326-2560e22d73c1",
    "pycharm": {
     "name": "#%% md\n"
    }
   },
   "source": [
    "3. Для каждого работодателя посчитайте количество регионов, в которых он публикует свои вакансии. Отсортируйте результат по убыванию количества.\n"
   ]
  },
  {
   "cell_type": "code",
   "execution_count": 7,
   "id": "6271f8ad-bd2e-4196-ae4a-5b39c4c1010e",
   "metadata": {
    "id": "6271f8ad-bd2e-4196-ae4a-5b39c4c1010e",
    "pycharm": {
     "name": "#%%\n"
    }
   },
   "outputs": [
    {
     "name": "stderr",
     "output_type": "stream",
     "text": [
      "C:\\Users\\nikol\\AppData\\Local\\Temp\\ipykernel_19568\\3923150816.py:6: UserWarning: pandas only supports SQLAlchemy connectable (engine/connection) or database string URI or sqlite3 DBAPI2 connection. Other DBAPI2 objects are not tested. Please consider using SQLAlchemy.\n",
      "  df = pd.read_sql_query(query_5_3, connection)\n"
     ]
    },
    {
     "data": {
      "text/plain": "                         name  number_of_regions\n0                      Яндекс                181\n1                  Ростелеком                152\n2                  Спецремонт                116\n3      Поляков Денис Иванович                 88\n4                   ООО ЕФИН                  71\n...                       ...                ...\n23170                  СДЕЛКА                  0\n23171            Alandr Group                  0\n23172                     СДК                  0\n23173      Lemon Land Lombard                  0\n23174                  Махина                  0\n\n[23175 rows x 2 columns]",
      "text/html": "<div>\n<style scoped>\n    .dataframe tbody tr th:only-of-type {\n        vertical-align: middle;\n    }\n\n    .dataframe tbody tr th {\n        vertical-align: top;\n    }\n\n    .dataframe thead th {\n        text-align: right;\n    }\n</style>\n<table border=\"1\" class=\"dataframe\">\n  <thead>\n    <tr style=\"text-align: right;\">\n      <th></th>\n      <th>name</th>\n      <th>number_of_regions</th>\n    </tr>\n  </thead>\n  <tbody>\n    <tr>\n      <th>0</th>\n      <td>Яндекс</td>\n      <td>181</td>\n    </tr>\n    <tr>\n      <th>1</th>\n      <td>Ростелеком</td>\n      <td>152</td>\n    </tr>\n    <tr>\n      <th>2</th>\n      <td>Спецремонт</td>\n      <td>116</td>\n    </tr>\n    <tr>\n      <th>3</th>\n      <td>Поляков Денис Иванович</td>\n      <td>88</td>\n    </tr>\n    <tr>\n      <th>4</th>\n      <td>ООО ЕФИН</td>\n      <td>71</td>\n    </tr>\n    <tr>\n      <th>...</th>\n      <td>...</td>\n      <td>...</td>\n    </tr>\n    <tr>\n      <th>23170</th>\n      <td>СДЕЛКА</td>\n      <td>0</td>\n    </tr>\n    <tr>\n      <th>23171</th>\n      <td>Alandr Group</td>\n      <td>0</td>\n    </tr>\n    <tr>\n      <th>23172</th>\n      <td>СДК</td>\n      <td>0</td>\n    </tr>\n    <tr>\n      <th>23173</th>\n      <td>Lemon Land Lombard</td>\n      <td>0</td>\n    </tr>\n    <tr>\n      <th>23174</th>\n      <td>Махина</td>\n      <td>0</td>\n    </tr>\n  </tbody>\n</table>\n<p>23175 rows × 2 columns</p>\n</div>"
     },
     "execution_count": 7,
     "metadata": {},
     "output_type": "execute_result"
    }
   ],
   "source": [
    "query_5_3 = f'''select e.name, count(DISTINCT v.area_id) number_of_regions\n",
    "           from public.employers e left join public.vacancies v on e.id = v.employer_id\n",
    "           group by e.name\n",
    "           order by count(DISTINCT v.area_id) DESC\n",
    "        '''\n",
    "df = pd.read_sql_query(query_5_3, connection)\n",
    "df"
   ]
  },
  {
   "cell_type": "markdown",
   "id": "eab2206d-d95b-468b-8e5f-34381abf0ce7",
   "metadata": {
    "id": "eab2206d-d95b-468b-8e5f-34381abf0ce7",
    "pycharm": {
     "name": "#%% md\n"
    }
   },
   "source": [
    "4. Напишите запрос для подсчёта количества работодателей, у которых не указана сфера деятельности. "
   ]
  },
  {
   "cell_type": "code",
   "execution_count": 12,
   "id": "80defb23-bfb1-4a18-8be6-bf36aa7165d5",
   "metadata": {
    "id": "80defb23-bfb1-4a18-8be6-bf36aa7165d5",
    "pycharm": {
     "name": "#%%\n"
    }
   },
   "outputs": [
    {
     "name": "stderr",
     "output_type": "stream",
     "text": [
      "C:\\Users\\nikol\\AppData\\Local\\Temp\\ipykernel_19568\\3490707110.py:6: UserWarning: pandas only supports SQLAlchemy connectable (engine/connection) or database string URI or sqlite3 DBAPI2 connection. Other DBAPI2 objects are not tested. Please consider using SQLAlchemy.\n",
      "  df = pd.read_sql_query(query_5_4, connection)\n"
     ]
    },
    {
     "data": {
      "text/plain": "8419"
     },
     "execution_count": 12,
     "metadata": {},
     "output_type": "execute_result"
    }
   ],
   "source": [
    "query_5_4 = f'''select *\n",
    "           from public.employers_industries ei left join public.industries i on i.id = ei.industry_id\n",
    "           right join public.employers e on e.id = ei.employer_id\n",
    "           where i.name is null\n",
    "        '''\n",
    "df = pd.read_sql_query(query_5_4, connection)\n",
    "df.shape[0]"
   ]
  },
  {
   "cell_type": "markdown",
   "id": "0112af31-f6b0-4e3b-82ab-71296e752e5e",
   "metadata": {
    "id": "0112af31-f6b0-4e3b-82ab-71296e752e5e",
    "pycharm": {
     "name": "#%% md\n"
    }
   },
   "source": [
    "5. Напишите запрос, чтобы узнать название компании, находящейся на третьем месте в алфавитном списке (по названию) компаний, у которых указано четыре сферы деятельности. "
   ]
  },
  {
   "cell_type": "code",
   "execution_count": 14,
   "id": "973b0cfc-a972-470a-8b4a-68744ef220c4",
   "metadata": {
    "id": "973b0cfc-a972-470a-8b4a-68744ef220c4",
    "pycharm": {
     "name": "#%%\n"
    }
   },
   "outputs": [
    {
     "name": "stderr",
     "output_type": "stream",
     "text": [
      "C:\\Users\\nikol\\AppData\\Local\\Temp\\ipykernel_19568\\2984995779.py:8: UserWarning: pandas only supports SQLAlchemy connectable (engine/connection) or database string URI or sqlite3 DBAPI2 connection. Other DBAPI2 objects are not tested. Please consider using SQLAlchemy.\n",
      "  df = pd.read_sql_query(query_5_5, connection)\n"
     ]
    },
    {
     "data": {
      "text/plain": "'2ГИС'"
     },
     "execution_count": 14,
     "metadata": {},
     "output_type": "execute_result"
    }
   ],
   "source": [
    "query_5_5 = f'''select e.name, count(i.name)\n",
    "           from public.employers_industries ei left join public.industries i on i.id = ei.industry_id\n",
    "           right join public.employers e on e.id = ei.employer_id\n",
    "           group by e.name\n",
    "           having count(i.name) = 4\n",
    "           order by e.name\n",
    "        '''\n",
    "df = pd.read_sql_query(query_5_5, connection)\n",
    "df[\"name\"][2]"
   ]
  },
  {
   "cell_type": "markdown",
   "id": "3bfcfdaf-755d-4d2b-8ed8-326201dc07ab",
   "metadata": {
    "id": "3bfcfdaf-755d-4d2b-8ed8-326201dc07ab",
    "pycharm": {
     "name": "#%% md\n"
    }
   },
   "source": [
    "6. С помощью запроса выясните, у какого количества работодателей в качестве сферы деятельности указана Разработка программного обеспечения.\n"
   ]
  },
  {
   "cell_type": "code",
   "execution_count": 19,
   "id": "ad3f270f-2991-47eb-929b-e8f88a55b0d1",
   "metadata": {
    "id": "ad3f270f-2991-47eb-929b-e8f88a55b0d1",
    "pycharm": {
     "name": "#%%\n"
    }
   },
   "outputs": [
    {
     "name": "stderr",
     "output_type": "stream",
     "text": [
      "C:\\Users\\nikol\\AppData\\Local\\Temp\\ipykernel_19568\\3831114428.py:7: UserWarning: pandas only supports SQLAlchemy connectable (engine/connection) or database string URI or sqlite3 DBAPI2 connection. Other DBAPI2 objects are not tested. Please consider using SQLAlchemy.\n",
      "  df = pd.read_sql_query(query_5_6, connection)\n"
     ]
    },
    {
     "data": {
      "text/plain": "3553"
     },
     "execution_count": 19,
     "metadata": {},
     "output_type": "execute_result"
    }
   ],
   "source": [
    "query_5_6 = f'''select count(e.name) cnt\n",
    "           from public.employers_industries ei left join public.industries i on i.id = ei.industry_id\n",
    "           right join public.employers e on e.id = ei.employer_id\n",
    "           group by i.name\n",
    "           having i.name = 'Разработка программного обеспечения'\n",
    "        '''\n",
    "df = pd.read_sql_query(query_5_6, connection)\n",
    "df['cnt'][0]"
   ]
  },
  {
   "cell_type": "markdown",
   "id": "7b02bb86-0546-40fb-94a4-242f050a5c57",
   "metadata": {
    "id": "7b02bb86-0546-40fb-94a4-242f050a5c57",
    "pycharm": {
     "name": "#%% md\n"
    }
   },
   "source": [
    "7. Для компании «Яндекс» выведите список регионов-миллионников, в которых представлены вакансии компании, вместе с количеством вакансий в этих регионах. Также добавьте строку Total с общим количеством вакансий компании. Результат отсортируйте по возрастанию количества.\n",
    "\n",
    "Список городов-милионников надо взять [отсюда](https://ru.wikipedia.org/wiki/%D0%93%D0%BE%D1%80%D0%BE%D0%B4%D0%B0-%D0%BC%D0%B8%D0%BB%D0%BB%D0%B8%D0%BE%D0%BD%D0%B5%D1%80%D1%8B_%D0%A0%D0%BE%D1%81%D1%81%D0%B8%D0%B8). \n",
    "\n",
    "Если возникнут трудности с этим задание посмотрите материалы модуля  PYTHON-17. Как получать данные из веб-источников и API. "
   ]
  },
  {
   "cell_type": "code",
   "source": [
    "import urllib.parse as req\n",
    "\n",
    "path_common = req.urlparse('https://ru.wikipedia.org/wiki/Города-миллионеры_России#Список_городов-миллионеров')\n",
    "url = path_common.scheme + '://' + req.quote(path_common.netloc) +  req.quote(path_common.path) + '#'+ req.quote(path_common.fragment)\n",
    "\n",
    "url\n",
    "list_city = list(pd.read_html(url)[1][\"Город\"])\n",
    "list_city[-3] = list_city[-3][:-3] #замена Воронеж[a] на Воронеж\n",
    "list_city = tuple(list_city)"
   ],
   "metadata": {
    "id": "ZdfrL6gIs1Pn",
    "pycharm": {
     "name": "#%%\n"
    }
   },
   "id": "ZdfrL6gIs1Pn",
   "execution_count": 37,
   "outputs": []
  },
  {
   "cell_type": "code",
   "execution_count": 40,
   "id": "5a0e32a4-e68a-4365-8a39-2fe24c542c36",
   "metadata": {
    "id": "5a0e32a4-e68a-4365-8a39-2fe24c542c36",
    "pycharm": {
     "name": "#%%\n"
    }
   },
   "outputs": [
    {
     "name": "stderr",
     "output_type": "stream",
     "text": [
      "C:\\Users\\nikol\\AppData\\Local\\Temp\\ipykernel_26684\\3622026219.py:12: UserWarning: pandas only supports SQLAlchemy connectable (engine/connection) or database string URI or sqlite3 DBAPI2 connection. Other DBAPI2 objects are not tested. Please consider using SQLAlchemy.\n",
      "  df = pd.read_sql_query(query_5_7, connection)\n"
     ]
    },
    {
     "data": {
      "text/plain": "               name  count\n0              Омск     21\n1         Челябинск     22\n2        Красноярск     23\n3         Волгоград     24\n4             Пермь     25\n5            Казань     25\n6    Ростов-на-Дону     25\n7            Самара     26\n8               Уфа     26\n9         Краснодар     30\n10          Воронеж     32\n11      Новосибирск     35\n12  Нижний Новгород     36\n13     Екатеринбург     39\n14  Санкт-Петербург     42\n15           Москва     54\n16            Total    485",
      "text/html": "<div>\n<style scoped>\n    .dataframe tbody tr th:only-of-type {\n        vertical-align: middle;\n    }\n\n    .dataframe tbody tr th {\n        vertical-align: top;\n    }\n\n    .dataframe thead th {\n        text-align: right;\n    }\n</style>\n<table border=\"1\" class=\"dataframe\">\n  <thead>\n    <tr style=\"text-align: right;\">\n      <th></th>\n      <th>name</th>\n      <th>count</th>\n    </tr>\n  </thead>\n  <tbody>\n    <tr>\n      <th>0</th>\n      <td>Омск</td>\n      <td>21</td>\n    </tr>\n    <tr>\n      <th>1</th>\n      <td>Челябинск</td>\n      <td>22</td>\n    </tr>\n    <tr>\n      <th>2</th>\n      <td>Красноярск</td>\n      <td>23</td>\n    </tr>\n    <tr>\n      <th>3</th>\n      <td>Волгоград</td>\n      <td>24</td>\n    </tr>\n    <tr>\n      <th>4</th>\n      <td>Пермь</td>\n      <td>25</td>\n    </tr>\n    <tr>\n      <th>5</th>\n      <td>Казань</td>\n      <td>25</td>\n    </tr>\n    <tr>\n      <th>6</th>\n      <td>Ростов-на-Дону</td>\n      <td>25</td>\n    </tr>\n    <tr>\n      <th>7</th>\n      <td>Самара</td>\n      <td>26</td>\n    </tr>\n    <tr>\n      <th>8</th>\n      <td>Уфа</td>\n      <td>26</td>\n    </tr>\n    <tr>\n      <th>9</th>\n      <td>Краснодар</td>\n      <td>30</td>\n    </tr>\n    <tr>\n      <th>10</th>\n      <td>Воронеж</td>\n      <td>32</td>\n    </tr>\n    <tr>\n      <th>11</th>\n      <td>Новосибирск</td>\n      <td>35</td>\n    </tr>\n    <tr>\n      <th>12</th>\n      <td>Нижний Новгород</td>\n      <td>36</td>\n    </tr>\n    <tr>\n      <th>13</th>\n      <td>Екатеринбург</td>\n      <td>39</td>\n    </tr>\n    <tr>\n      <th>14</th>\n      <td>Санкт-Петербург</td>\n      <td>42</td>\n    </tr>\n    <tr>\n      <th>15</th>\n      <td>Москва</td>\n      <td>54</td>\n    </tr>\n    <tr>\n      <th>16</th>\n      <td>Total</td>\n      <td>485</td>\n    </tr>\n  </tbody>\n</table>\n</div>"
     },
     "execution_count": 40,
     "metadata": {},
     "output_type": "execute_result"
    }
   ],
   "source": [
    "query_5_7 = f'''(select a.name, count(v.id)\n",
    "           from public.vacancies v join public.areas a on v.area_id = a.id join public.employers e on e.id = v.employer_id\n",
    "           where e.name = 'Яндекс' and a.name in {list_city}\n",
    "           group by a.id)\n",
    "           UNION ALL\n",
    "           select 'Total', count(v.id)\n",
    "           from public.vacancies v join public.areas a on v.area_id = a.id join public.employers e on e.id = v.employer_id\n",
    "           where e.name = 'Яндекс' and a.name in {list_city}\n",
    "\n",
    "            order by 2\n",
    "        '''\n",
    "df = pd.read_sql_query(query_5_7, connection)\n",
    "df"
   ]
  },
  {
   "cell_type": "markdown",
   "id": "04966e40-3bc3-4dc8-9ba2-e80580ce3abc",
   "metadata": {
    "id": "04966e40-3bc3-4dc8-9ba2-e80580ce3abc",
    "pycharm": {
     "name": "#%% md\n"
    }
   },
   "source": [
    "***"
   ]
  },
  {
   "cell_type": "markdown",
   "source": [
    "Наибольшее число вакансий предоставляют компании из сферы IT, коммуникации и из добывающей промышленности России. Однако примерно треть компаний не указывают свою сферу деятельности. Крупнейшая компания Яндекс предлагает работу в 181 регионе, причём 485 вакансии предлагаются в 16 городах миллионниках России."
   ],
   "metadata": {
    "collapsed": false,
    "pycharm": {
     "name": "#%% md\n"
    }
   }
  },
  {
   "cell_type": "markdown",
   "id": "b1ef156a-efcb-49ce-bb23-90763e7f35b2",
   "metadata": {
    "tags": [],
    "id": "b1ef156a-efcb-49ce-bb23-90763e7f35b2",
    "pycharm": {
     "name": "#%% md\n"
    }
   },
   "source": [
    "# Юнит 6. Предметный анализ"
   ]
  },
  {
   "cell_type": "markdown",
   "id": "b9cd50a0-992d-4988-8463-2b2b1c4629b4",
   "metadata": {
    "id": "b9cd50a0-992d-4988-8463-2b2b1c4629b4",
    "pycharm": {
     "name": "#%% md\n"
    }
   },
   "source": [
    "1. Сколько вакансий имеет отношение к данным?\n",
    "\n",
    "Считаем, что вакансия имеет отношение к данным, если в её названии содержатся слова 'data' или 'данн'.\n",
    "\n",
    "*Подсказка: Обратите внимание, что названия вакансий могут быть написаны в любом регистре.* \n"
   ]
  },
  {
   "cell_type": "code",
   "execution_count": 48,
   "id": "54ab0e50-c0f1-47cc-a54b-bc5c8bc363f9",
   "metadata": {
    "id": "54ab0e50-c0f1-47cc-a54b-bc5c8bc363f9",
    "pycharm": {
     "name": "#%%\n"
    }
   },
   "outputs": [
    {
     "name": "stderr",
     "output_type": "stream",
     "text": [
      "C:\\Users\\nikol\\AppData\\Local\\Temp\\ipykernel_26684\\1361836130.py:5: UserWarning: pandas only supports SQLAlchemy connectable (engine/connection) or database string URI or sqlite3 DBAPI2 connection. Other DBAPI2 objects are not tested. Please consider using SQLAlchemy.\n",
      "  df = pd.read_sql_query(query_6_1, connection)\n"
     ]
    },
    {
     "data": {
      "text/plain": "1771"
     },
     "execution_count": 48,
     "metadata": {},
     "output_type": "execute_result"
    }
   ],
   "source": [
    "query_6_1 = f'''select count(DISTINCT id)\n",
    "            from public.vacancies\n",
    "            where LOWER(name) like '%данн%' or LOWER(name) like '%data%'\n",
    "        '''\n",
    "df = pd.read_sql_query(query_6_1, connection)\n",
    "df[\"count\"][0]"
   ]
  },
  {
   "cell_type": "markdown",
   "id": "4dea20cb-a36b-474a-a0b9-e08e8e3857a5",
   "metadata": {
    "id": "4dea20cb-a36b-474a-a0b9-e08e8e3857a5",
    "pycharm": {
     "name": "#%% md\n"
    }
   },
   "source": [
    "2. Сколько есть подходящих вакансий для начинающего дата-сайентиста? \n",
    "Будем считать вакансиями для дата-сайентистов такие, в названии которых есть хотя бы одно из следующих сочетаний:\n",
    "* 'data scientist'\n",
    "* 'data science'\n",
    "* 'исследователь данных'\n",
    "* 'ML' (здесь не нужно брать вакансии по HTML)\n",
    "* 'machine learning'\n",
    "* 'машинн%обучен%'\n",
    "\n",
    "** В следующих заданиях мы продолжим работать с вакансиями по этому условию.*\n",
    "\n",
    "Считаем вакансиями для специалистов уровня Junior следующие:\n",
    "* в названии есть слово 'junior' *или*\n",
    "* требуемый опыт — Нет опыта *или*\n",
    "* тип трудоустройства — Стажировка.\n",
    " "
   ]
  },
  {
   "cell_type": "code",
   "execution_count": 50,
   "id": "9c61b3c0-bb66-46c9-ae1e-81d3f5752b4a",
   "metadata": {
    "id": "9c61b3c0-bb66-46c9-ae1e-81d3f5752b4a",
    "pycharm": {
     "name": "#%%\n"
    }
   },
   "outputs": [
    {
     "name": "stderr",
     "output_type": "stream",
     "text": [
      "C:\\Users\\nikol\\AppData\\Local\\Temp\\ipykernel_26684\\2199138281.py:5: UserWarning: pandas only supports SQLAlchemy connectable (engine/connection) or database string URI or sqlite3 DBAPI2 connection. Other DBAPI2 objects are not tested. Please consider using SQLAlchemy.\n",
      "  df = pd.read_sql_query(query_6_2, connection)\n"
     ]
    },
    {
     "data": {
      "text/plain": "51"
     },
     "execution_count": 50,
     "metadata": {},
     "output_type": "execute_result"
    }
   ],
   "source": [
    "query_6_2 = f'''select *\n",
    "            from public.vacancies\n",
    "            where (LOWER(name) like '%data scientist%' or LOWER(name) like '%data science%' or LOWER(name) like '%исследователь данных%' or name like '%ML%' or LOWER(name) like '%machine learning%' or LOWER(name) like '%машинн%обучен%') and (LOWER(name) like '%junior%' or experience like '%Нет опыта%' or schedule like '%Стажировка%') and not (name like '%HTML%')\n",
    "        '''\n",
    "df = pd.read_sql_query(query_6_2, connection)\n",
    "df.shape[0]"
   ]
  },
  {
   "cell_type": "markdown",
   "id": "eedceb80-c5ca-480e-b27a-278dfb8b4438",
   "metadata": {
    "id": "eedceb80-c5ca-480e-b27a-278dfb8b4438",
    "pycharm": {
     "name": "#%% md\n"
    }
   },
   "source": [
    "3. Сколько есть вакансий для DS, в которых в качестве ключевого навыка указан SQL или postgres?\n",
    "\n",
    "** Критерии для отнесения вакансии к DS указаны в предыдущем задании.*"
   ]
  },
  {
   "cell_type": "code",
   "execution_count": 51,
   "id": "69621713-0cc5-4f1b-a1d7-bb144fa6148c",
   "metadata": {
    "id": "69621713-0cc5-4f1b-a1d7-bb144fa6148c",
    "pycharm": {
     "name": "#%%\n"
    }
   },
   "outputs": [
    {
     "name": "stderr",
     "output_type": "stream",
     "text": [
      "C:\\Users\\nikol\\AppData\\Local\\Temp\\ipykernel_26684\\2912045549.py:5: UserWarning: pandas only supports SQLAlchemy connectable (engine/connection) or database string URI or sqlite3 DBAPI2 connection. Other DBAPI2 objects are not tested. Please consider using SQLAlchemy.\n",
      "  df = pd.read_sql_query(query, connection)\n"
     ]
    },
    {
     "data": {
      "text/plain": "201"
     },
     "execution_count": 51,
     "metadata": {},
     "output_type": "execute_result"
    }
   ],
   "source": [
    "query = f'''select *\n",
    "            from public.vacancies\n",
    "            where (key_skills like '%SQL%' or key_skills like '%postgres%') and (LOWER(name) like '%data scientist%' or LOWER(name) like '%data science%' or LOWER(name) like '%исследователь данных%' or name like '%ML%' or LOWER(name) like '%machine learning%' or LOWER(name) like '%машинн%обучен%') and not (name like '%HTML%')\n",
    "        '''\n",
    "df = pd.read_sql_query(query, connection)\n",
    "df.shape[0]"
   ]
  },
  {
   "cell_type": "markdown",
   "id": "1be1e9c6-37cf-4a5f-bfeb-04cab799dc80",
   "metadata": {
    "id": "1be1e9c6-37cf-4a5f-bfeb-04cab799dc80",
    "pycharm": {
     "name": "#%% md\n"
    }
   },
   "source": [
    "4. Проверьте, насколько популярен Python в требованиях работодателей к DS.Для этого вычислите количество вакансий, в которых в качестве ключевого навыка указан Python.\n",
    "\n",
    "** Это можно сделать помощью запроса, аналогичного предыдущему.*"
   ]
  },
  {
   "cell_type": "code",
   "execution_count": 53,
   "id": "0036a355-9ccf-4564-8b01-73d8194297e7",
   "metadata": {
    "id": "0036a355-9ccf-4564-8b01-73d8194297e7",
    "pycharm": {
     "name": "#%%\n"
    }
   },
   "outputs": [
    {
     "name": "stderr",
     "output_type": "stream",
     "text": [
      "C:\\Users\\nikol\\AppData\\Local\\Temp\\ipykernel_26684\\1077973632.py:5: UserWarning: pandas only supports SQLAlchemy connectable (engine/connection) or database string URI or sqlite3 DBAPI2 connection. Other DBAPI2 objects are not tested. Please consider using SQLAlchemy.\n",
      "  df = pd.read_sql_query(query_6_4, connection)\n"
     ]
    },
    {
     "data": {
      "text/plain": "351"
     },
     "execution_count": 53,
     "metadata": {},
     "output_type": "execute_result"
    }
   ],
   "source": [
    "query_6_4 = f'''select *\n",
    "            from public.vacancies\n",
    "            where (LOWER(key_skills) like '%python%') and (LOWER(name) like '%data scientist%' or LOWER(name) like '%data science%' or LOWER(name) like '%исследователь данных%' or name like '%ML%' or LOWER(name) like '%machine learning%' or LOWER(name) like '%машинн%обучен%') and not (name like '%HTML%')\n",
    "        '''\n",
    "df = pd.read_sql_query(query_6_4, connection)\n",
    "df.shape[0]"
   ]
  },
  {
   "cell_type": "markdown",
   "id": "ec3c8db7-fa21-4a41-a994-1af63742a642",
   "metadata": {
    "id": "ec3c8db7-fa21-4a41-a994-1af63742a642",
    "pycharm": {
     "name": "#%% md\n"
    }
   },
   "source": [
    "5. Сколько ключевых навыков в среднем указывают в вакансиях для DS?\n",
    "Ответ округлите до двух знаков после точки-разделителя."
   ]
  },
  {
   "cell_type": "code",
   "execution_count": 55,
   "id": "949132bc-d5b6-4611-8218-0b9a504d74f4",
   "metadata": {
    "id": "949132bc-d5b6-4611-8218-0b9a504d74f4",
    "pycharm": {
     "name": "#%%\n"
    }
   },
   "outputs": [
    {
     "name": "stderr",
     "output_type": "stream",
     "text": [
      "C:\\Users\\nikol\\AppData\\Local\\Temp\\ipykernel_26684\\3963169523.py:5: UserWarning: pandas only supports SQLAlchemy connectable (engine/connection) or database string URI or sqlite3 DBAPI2 connection. Other DBAPI2 objects are not tested. Please consider using SQLAlchemy.\n",
      "  df = pd.read_sql_query(query, connection)\n"
     ]
    },
    {
     "data": {
      "text/plain": "6.41"
     },
     "execution_count": 55,
     "metadata": {},
     "output_type": "execute_result"
    }
   ],
   "source": [
    "query = f'''select key_skills\n",
    "            from public.vacancies\n",
    "            where (LOWER(name) like '%data scientist%' or LOWER(name) like '%data science%' or LOWER(name) like '%исследователь данных%' or name like '%ML%' or LOWER(name) like '%machine learning%' or LOWER(name) like '%машинн%обучен%') and not (name like '%HTML%') AND key_skills IS NOT NULL\n",
    "        '''\n",
    "df = pd.read_sql_query(query, connection)\n",
    "round(df['key_skills'].apply(lambda x: len(x.split('\\t'))).mean(),2)"
   ]
  },
  {
   "cell_type": "markdown",
   "id": "1041c17a-ca8f-4543-a0ca-32778914fb00",
   "metadata": {
    "id": "1041c17a-ca8f-4543-a0ca-32778914fb00",
    "pycharm": {
     "name": "#%% md\n"
    }
   },
   "source": [
    "6. Напишите запрос, позволяющий вычислить, какую зарплату для DS в **среднем** указывают для каждого типа требуемого опыта (уникальное значение из поля *experience*). \n",
    "\n",
    "При решении задачи примите во внимание следующее:\n",
    "1. Рассматриваем только вакансии, у которых заполнено хотя бы одно из двух полей с зарплатой.\n",
    "2. Если заполнены оба поля с зарплатой, то считаем зарплату по каждой вакансии как сумму двух полей, делённую на 2. Если заполнено только одно из полей, то его и считаем зарплатой по вакансии.\n",
    "3. Если в расчётах участвует null, в результате он тоже даст null (посмотрите, что возвращает запрос select 1 + null). Чтобы избежать этой ситуацию, мы воспользуемся функцией [coalesce](https://postgrespro.ru/docs/postgresql/9.5/functions-conditional#functions-coalesce-nvl-ifnull), которая заменит null на значение, которое мы передадим. Например, посмотрите, что возвращает запрос `select 1 + coalesce(null, 0)`\n",
    "\n",
    "Выясните, на какую зарплату в среднем может рассчитывать дата-сайентист с опытом работы от 3 до 6 лет. Результат округлите до целого числа. "
   ]
  },
  {
   "cell_type": "code",
   "execution_count": 56,
   "id": "6a743d39-5204-48d3-8271-b9f88e68d40e",
   "metadata": {
    "id": "6a743d39-5204-48d3-8271-b9f88e68d40e",
    "pycharm": {
     "name": "#%%\n"
    }
   },
   "outputs": [
    {
     "name": "stderr",
     "output_type": "stream",
     "text": [
      "C:\\Users\\nikol\\AppData\\Local\\Temp\\ipykernel_26684\\2557347930.py:6: UserWarning: pandas only supports SQLAlchemy connectable (engine/connection) or database string URI or sqlite3 DBAPI2 connection. Other DBAPI2 objects are not tested. Please consider using SQLAlchemy.\n",
      "  df = pd.read_sql_query(query, connection)\n"
     ]
    },
    {
     "data": {
      "text/plain": "           experience            avg\n0           Нет опыта   74642.857143\n1  От 1 года до 3 лет  139674.750000\n2       От 3 до 6 лет  243114.666667",
      "text/html": "<div>\n<style scoped>\n    .dataframe tbody tr th:only-of-type {\n        vertical-align: middle;\n    }\n\n    .dataframe tbody tr th {\n        vertical-align: top;\n    }\n\n    .dataframe thead th {\n        text-align: right;\n    }\n</style>\n<table border=\"1\" class=\"dataframe\">\n  <thead>\n    <tr style=\"text-align: right;\">\n      <th></th>\n      <th>experience</th>\n      <th>avg</th>\n    </tr>\n  </thead>\n  <tbody>\n    <tr>\n      <th>0</th>\n      <td>Нет опыта</td>\n      <td>74642.857143</td>\n    </tr>\n    <tr>\n      <th>1</th>\n      <td>От 1 года до 3 лет</td>\n      <td>139674.750000</td>\n    </tr>\n    <tr>\n      <th>2</th>\n      <td>От 3 до 6 лет</td>\n      <td>243114.666667</td>\n    </tr>\n  </tbody>\n</table>\n</div>"
     },
     "execution_count": 56,
     "metadata": {},
     "output_type": "execute_result"
    }
   ],
   "source": [
    "query = f'''select experience, AVG((coalesce(salary_from, salary_to, NULL) + coalesce(salary_to, salary_from, NULL))/2)\n",
    "            from public.vacancies\n",
    "            where (LOWER(name) like '%data scientist%' or LOWER(name) like '%data science%' or LOWER(name) like '%исследователь данных%' or name like '%ML%' or LOWER(name) like '%machine learning%' or LOWER(name) like '%машинн%обучен%') and not (name like '%HTML%') AND (salary_from IS NOT NULL or salary_to IS NOT NULL)\n",
    "            group by experience\n",
    "        '''\n",
    "df = pd.read_sql_query(query, connection)\n",
    "df"
   ]
  },
  {
   "cell_type": "markdown",
   "id": "6a7892b4-4113-4746-adce-18aa2844f18e",
   "metadata": {
    "id": "6a7892b4-4113-4746-adce-18aa2844f18e",
    "pycharm": {
     "name": "#%% md\n"
    }
   },
   "source": [
    "***"
   ]
  },
  {
   "cell_type": "markdown",
   "source": [
    "Итак, для дата-сайнтиста есть 1771 вакансия, то есть меньше 4 процентов от общего числа вакансий в базе данных. Для начинающих только 0.01%. SQL или postgres требуется в качестве ключевого навыка в каждой десятой вакансии для ДС. Python требуется в каждом пятой вакансии. В среднем работадатель требует от ДС около 6-7 ключевых навыков с зарплатой 75000 Р для человека без опыта работы и 240000 Р для человека со стажем от 3 лет."
   ],
   "metadata": {
    "collapsed": false,
    "pycharm": {
     "name": "#%% md\n"
    }
   }
  },
  {
   "cell_type": "markdown",
   "source": [
    "# Общий вывод по проекту"
   ],
   "metadata": {
    "id": "c0ED6fh7wiBT",
    "pycharm": {
     "name": "#%% md\n"
    }
   },
   "id": "c0ED6fh7wiBT"
  },
  {
   "cell_type": "markdown",
   "source": [
    "В данных представлены вакансии, которые охватывают тяжелую и лёгкую промышленности, пишевую индустрию и сферу услуг. Кроме программистов также представлены вакансии связанные с цифровой индустрией, например руководителей проектов или компьютерных мастеров. Вакансии представлены по всему миру, но большинство в России, которая особенно подробно разбита на регионы и города. В данных есть вакансии из 1362 регионов, однако почти половина вакансий находится в десяти крупнейших городах России. Москва выделяется на фоне остальных регионов количеством вакансий (в 2 раза больше, чем у второго города по количеству вакансий Санкт-Петербурга) и предлагаемой ЗП. Лишь половина вакансий чётко обозначают границы зарплат, что, видимо, говорит о том, что условия могут измениться в зависимости от соискателя. В среднем предлагаемые около 100000 Р, но стоит учитывать, что семь из десяти вакансий предлагаются людям либо с малым опытом работы, либо без опыта вовсе. На момент сохранения базы данных удаленный вид работы не был так распространен, поэтому и количество вакансий лишь около 4%, в подавляющем большинстве же предлагается полный рабочий день (видимо в офисе). Наибольшее число вакансий предоставляют компании из сферы IT, коммуникации и из добывающей промышленности России. Однако примерно треть компаний не указывают свою сферу деятельности. Крупнейшая компания Яндекс предлагает работу в 181 регионе, причём 485 вакансии предлагаются в 16 городах миллионниках России. Итак, для дата-сайнтиста есть 1771 вакансия, то есть меньше 4 процентов от общего числа вакансий в базе данных. Для начинающих только 0.01%. SQL или postgres требуется в качестве ключевого навыка в каждой десятой вакансии для ДС. Python требуется в каждом пятой вакансии. Часто требуется знание Pandas и Linux. В среднем работадатель требует от ДС около 6-7 ключевых навыков с зарплатой 75000 Р для человека без опыта работы и 240000 Р для человека со стажем от 3 лет."
   ],
   "metadata": {
    "collapsed": false,
    "pycharm": {
     "name": "#%% md\n"
    }
   }
  }
 ],
 "metadata": {
  "kernelspec": {
   "display_name": "Python 3 (ipykernel)",
   "language": "python",
   "name": "python3"
  },
  "language_info": {
   "codemirror_mode": {
    "name": "ipython",
    "version": 3
   },
   "file_extension": ".py",
   "mimetype": "text/x-python",
   "name": "python",
   "nbconvert_exporter": "python",
   "pygments_lexer": "ipython3",
   "version": "3.9.7"
  },
  "colab": {
   "provenance": [],
   "collapsed_sections": [
    "8d62a9f3-f64e-4fe7-bdac-c4dffa16155e"
   ]
  }
 },
 "nbformat": 4,
 "nbformat_minor": 5
}